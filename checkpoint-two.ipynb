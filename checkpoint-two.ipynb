{
  "metadata": {
    "kernelspec": {
      "name": "python3",
      "display_name": "Python 3",
      "language": "python"
    },
    "language_info": {
      "name": "python",
      "version": "3.8.8",
      "mimetype": "text/x-python",
      "codemirror_mode": {
        "name": "ipython",
        "version": 3
      },
      "pygments_lexer": "ipython3",
      "nbconvert_exporter": "python",
      "file_extension": ".py"
    },
    "colab": {
      "provenance": []
    }
  },
  "nbformat_minor": 0,
  "nbformat": 4,
  "cells": [
    {
      "cell_type": "markdown",
      "source": [
        "# Checkpoint Two: Exploratory Data Analysis\n",
        "\n",
        "Now that your chosen dataset is approved, it is time to start working on your analysis. Use this notebook to perform your EDA and make notes where directed to as you work.\n",
        "\n",
        "## Getting Started\n",
        "\n",
        "Since we have not provided your dataset for you, you will need to load the necessary files in this repository. Make sure to include a link back to the original dataset here as well.\n",
        "\n",
        "My dataset:\n",
        "\n",
        "I have two very similar datasets to draw upon. One is from Scopus, and one is from an in-house dataset from the University of Missouri-St. Louis (UMSL). They both contain bibliographic metadata about articles published by members of the UMSL faculty.\n",
        "\n",
        "The faculty provided metadata is at: https://raw.githubusercontent.com/e3la/eda-checkpoint/starter-main/articles.csv\n",
        "\n",
        "The scopus export is at:\n",
        "https://raw.githubusercontent.com/e3la/eda-checkpoint/starter-main/umsl-scholarship.csv\n",
        "\n",
        "Your first task in EDA is to import necessary libraries and create a dataframe(s). Make note in the form of code comments of what your thought process is as you work on this setup task."
      ],
      "metadata": {
        "azdata_cell_guid": "151601c9-ca7a-412e-af80-c62a87e0837e",
        "id": "HlfsYz6soyDy"
      }
    },
    {
      "cell_type": "code",
      "source": [
        "# import dependencies with aliases\n",
        "import pandas as pd\n",
        "import matplotlib.pyplot as plt\n",
        "import seaborn as sns\n",
        "import numpy as np\n"
      ],
      "metadata": {
        "azdata_cell_guid": "7b503e37-6df5-4433-acfb-678b1346db14",
        "id": "jJk6X-KmoyDz"
      },
      "outputs": [],
      "execution_count": 10
    },
    {
      "cell_type": "code",
      "source": [
        "# make my dataframe using .read_csv - I am using the raw link to my articles csv file because that's the easiest way I've found when using google colab\n",
        "\n",
        "url = 'https://raw.githubusercontent.com/e3la/eda-checkpoint/starter-main/articles.csv'\n",
        "url2 = 'https://raw.githubusercontent.com/e3la/eda-checkpoint/starter-main/umsl-scholarship.csv'\n",
        "\n",
        "fac_df= pd.read_csv(url)\n",
        "sco_df= pd.read_csv(url2)"
      ],
      "metadata": {
        "id": "ij8HT982o4cJ"
      },
      "execution_count": 11,
      "outputs": []
    },
    {
      "cell_type": "markdown",
      "source": [
        "## Get to Know the Numbers\n",
        "\n",
        "Now that you have everything setup, put any code that you use to get to know the dataframe and its rows and columns better in the cell below. You can use whatever techniques you like, except for visualizations. You will put those in a separate section.\n",
        "\n",
        "When working on your code, make sure to leave comments so that your mentors can understand your thought process."
      ],
      "metadata": {
        "azdata_cell_guid": "129ce836-524b-4ea8-b394-a959f9308d6a",
        "id": "LbOXHS3NoyD0"
      }
    },
    {
      "cell_type": "code",
      "source": [
        "#printing info() to help me get to know the columns and datatypes\n",
        "print(fac_df.info())\n"
      ],
      "metadata": {
        "azdata_cell_guid": "0ca2d318-f6e8-43ef-a33e-5304d24d928d",
        "tags": [],
        "id": "N1DqFEuToyD0",
        "outputId": "1ac871c9-ef91-4554-a017-53ed003f5793",
        "colab": {
          "base_uri": "https://localhost:8080/"
        }
      },
      "outputs": [
        {
          "output_type": "stream",
          "name": "stdout",
          "text": [
            "<class 'pandas.core.frame.DataFrame'>\n",
            "RangeIndex: 5662 entries, 0 to 5661\n",
            "Data columns (total 39 columns):\n",
            " #   Column                                                                   Non-Null Count  Dtype  \n",
            "---  ------                                                                   --------------  -----  \n",
            " 0   First Name                                                               5662 non-null   object \n",
            " 1   Last Name                                                                5662 non-null   object \n",
            " 2   Type                                                                     5662 non-null   object \n",
            " 3   Title                                                                    5662 non-null   object \n",
            " 4   Journal                                                                  5109 non-null   object \n",
            " 5   Date                                                                     2331 non-null   object \n",
            " 6   Year                                                                     5353 non-null   float64\n",
            " 7   Volume                                                                   2857 non-null   object \n",
            " 8   Pages                                                                    2713 non-null   object \n",
            " 9   Issue                                                                    1526 non-null   object \n",
            " 10  URL                                                                      576 non-null    object \n",
            " 11  Status                                                                   5661 non-null   object \n",
            " 12  DOI                                                                      1690 non-null   object \n",
            " 13  PMID                                                                     663 non-null    object \n",
            " 14  PMCID                                                                    287 non-null    object \n",
            " 15  ISSN                                                                     850 non-null    object \n",
            " 16  Term                                                                     5660 non-null   object \n",
            " 17  Year.1                                                                   5661 non-null   object \n",
            " 18  Description                                                              2098 non-null   object \n",
            " 19  Authors                                                                  5592 non-null   object \n",
            " 20  AACSB: Professional Practice Standards or Public Policy                  934 non-null    object \n",
            " 21  AACSB: Scholarly Type                                                    788 non-null    object \n",
            " 22  Peer Review Type                                                         3543 non-null   object \n",
            " 23  Geographic Scope                                                         2086 non-null   object \n",
            " 24  Funding Type                                                             2661 non-null   object \n",
            " 25  Article Type                                                             3971 non-null   object \n",
            " 26  Peer Reviewed / Juried?                                                  5162 non-null   object \n",
            " 27  Publication Type                                                         5107 non-null   object \n",
            " 28  Faculty Role                                                             2606 non-null   object \n",
            " 29  Funding Agency and Grant Number (if applicable)                          586 non-null    object \n",
            " 30  Description of Intellectual Contribution / Role                          280 non-null    object \n",
            " 31  Reviews and Press Coverage of Work                                       31 non-null     object \n",
            " 32  URL(s) of Reviews and Press Coverage (or upload documents in section C)  26 non-null     object \n",
            " 33  Language                                                                 4687 non-null   object \n",
            " 34  Honors / Awards / Recognition Received                                   50 non-null     object \n",
            " 35  Source of Data                                                           5258 non-null   object \n",
            " 36  Times Cited                                                              389 non-null    float64\n",
            " 37  Impact Factor                                                            0 non-null      float64\n",
            " 38  Journal Quartile                                                         0 non-null      float64\n",
            "dtypes: float64(4), object(35)\n",
            "memory usage: 1.7+ MB\n",
            "None\n"
          ]
        }
      ],
      "execution_count": 16
    },
    {
      "cell_type": "code",
      "source": [
        "#getting the columns of data helps me get to know what is in there\n",
        "print(sco_df.info())\n",
        "\n",
        "print(sco_df.columns)\n",
        "\n",
        "print(sco_df['doi'].notnull().sum(),\"the DOI isn't NULL\")\n",
        "\n",
        "print(sco_df.describe)\n"
      ],
      "metadata": {
        "id": "_yLu8ENEVcGm",
        "outputId": "a48847df-d684-4da4-d87e-e1da96d0217d",
        "colab": {
          "base_uri": "https://localhost:8080/"
        }
      },
      "execution_count": 21,
      "outputs": [
        {
          "output_type": "stream",
          "name": "stdout",
          "text": [
            "<class 'pandas.core.frame.DataFrame'>\n",
            "RangeIndex: 2892 entries, 0 to 2891\n",
            "Columns: 248 entries, title to author30_is_corporate\n",
            "dtypes: float64(128), object(120)\n",
            "memory usage: 5.5+ MB\n",
            "None\n",
            "Index(['title',\n",
            "       '=> BEGIN UNMAPPED SCOPUS METADATA (MODIFY/RENAME/DELETE COLUMNS AS NEEDED)',\n",
            "       'Open Access', 'Gold OA', 'Hybrid Gold OA', 'Bronze OA',\n",
            "       'Green Final OA', 'Green Accepted OA', 'External Full-text Location',\n",
            "       'Source API URL',\n",
            "       ...\n",
            "       'author29_email', 'author29_institution', 'author29_is_corporate',\n",
            "       'author30_fname', 'author30_mname', 'author30_lname', 'author30_suffix',\n",
            "       'author30_email', 'author30_institution', 'author30_is_corporate'],\n",
            "      dtype='object', length=248)\n",
            "2758 the DOI isn't NULL\n",
            "<bound method NDFrame.describe of                                                   title  \\\n",
            "0     Association between seroprevalence of measles ...   \n",
            "1     Composition and function of the Galapagos peng...   \n",
            "2     Perceived network bridging influences the care...   \n",
            "3     Unraveling Amazon tree community assembly usin...   \n",
            "4     Publisher Correction: Insights into the mechan...   \n",
            "...                                                 ...   \n",
            "2887  Transport of excited charge carriers in conjug...   \n",
            "2888  Financial stress and economic activity in some...   \n",
            "2889  An international perspective on the people and...   \n",
            "2890  Vapor pressure and enthalpy of vaporization of...   \n",
            "2891  Neuromarkers of the common angiotensinogen pol...   \n",
            "\n",
            "     => BEGIN UNMAPPED SCOPUS METADATA (MODIFY/RENAME/DELETE COLUMNS AS NEEDED)  \\\n",
            "0                                                                                 \n",
            "1                                                                                 \n",
            "2                                                                                 \n",
            "3                                                                                 \n",
            "4                                                                                 \n",
            "...                                                 ...                           \n",
            "2887                                                                              \n",
            "2888                                                                              \n",
            "2889                                                                              \n",
            "2890                                                                              \n",
            "2891                                                                              \n",
            "\n",
            "     Open Access  Gold OA Hybrid Gold OA Bronze OA  Green Final OA  \\\n",
            "0             OA  Gold OA              -         -               -   \n",
            "1             OA  Gold OA              -         -  Green Final OA   \n",
            "2             OA  Gold OA              -         -  Green Final OA   \n",
            "3             OA  Gold OA              -         -  Green Final OA   \n",
            "4             OA  Gold OA              -         -  Green Final OA   \n",
            "...          ...      ...            ...       ...             ...   \n",
            "2887           -        -              -         -               -   \n",
            "2888           -        -              -         -               -   \n",
            "2889           -        -              -         -               -   \n",
            "2890           -        -              -         -               -   \n",
            "2891          OA        -              -         -               -   \n",
            "\n",
            "      Green Accepted OA                   External Full-text Location  \\\n",
            "0                     -  https://doi.org/10.1016/j.onehlt.2023.100571   \n",
            "1                     -    https://doi.org/10.1038/s41598-023-31826-y   \n",
            "2                     -    https://doi.org/10.1186/s40594-023-00408-9   \n",
            "3     Green Accepted OA    https://doi.org/10.1038/s41598-023-28132-y   \n",
            "4                     -    https://doi.org/10.1038/s41467-023-36155-2   \n",
            "...                 ...                                           ...   \n",
            "2887                  -          https://doi.org/10.1149/2.0161601jss   \n",
            "2888                  -   https://doi.org/10.1016/j.ribaf.2015.09.017   \n",
            "2889                  -  https://doi.org/10.1007/978-981-287-472-6_21   \n",
            "2890                  -     https://doi.org/10.1016/j.jct.2015.09.005   \n",
            "2891  Green Accepted OA     https://doi.org/10.1016/j.bbr.2015.08.028   \n",
            "\n",
            "                                         Source API URL  ... author29_email  \\\n",
            "0     https://api.elsevier.com/content/abstract/scop...  ...            NaN   \n",
            "1     https://api.elsevier.com/content/abstract/scop...  ...            NaN   \n",
            "2     https://api.elsevier.com/content/abstract/scop...  ...            NaN   \n",
            "3     https://api.elsevier.com/content/abstract/scop...  ...            NaN   \n",
            "4     https://api.elsevier.com/content/abstract/scop...  ...            NaN   \n",
            "...                                                 ...  ...            ...   \n",
            "2887  https://api.elsevier.com/content/abstract/scop...  ...            NaN   \n",
            "2888  https://api.elsevier.com/content/abstract/scop...  ...            NaN   \n",
            "2889  https://api.elsevier.com/content/abstract/scop...  ...            NaN   \n",
            "2890  https://api.elsevier.com/content/abstract/scop...  ...            NaN   \n",
            "2891  https://api.elsevier.com/content/abstract/scop...  ...            NaN   \n",
            "\n",
            "                                   author29_institution  \\\n",
            "0                                                   NaN   \n",
            "1                                                   NaN   \n",
            "2                                                   NaN   \n",
            "3     Universidade Estadual Paulista \"Júlio de Mesqu...   \n",
            "4                                                   NaN   \n",
            "...                                                 ...   \n",
            "2887                                                NaN   \n",
            "2888                                                NaN   \n",
            "2889                                                NaN   \n",
            "2890                                                NaN   \n",
            "2891                                                NaN   \n",
            "\n",
            "      author29_is_corporate       author30_fname author30_mname  \\\n",
            "0                       NaN                  NaN            NaN   \n",
            "1                       NaN                  NaN            NaN   \n",
            "2                       NaN                  NaN            NaN   \n",
            "3                       NaN  Evlyn Márcia Moraes            NaN   \n",
            "4                       NaN                  NaN            NaN   \n",
            "...                     ...                  ...            ...   \n",
            "2887                    NaN                  NaN            NaN   \n",
            "2888                    NaN                  NaN            NaN   \n",
            "2889                    NaN                  NaN            NaN   \n",
            "2890                    NaN                  NaN            NaN   \n",
            "2891                    NaN                  NaN            NaN   \n",
            "\n",
            "     author30_lname  author30_suffix  author30_email  \\\n",
            "0               NaN              NaN             NaN   \n",
            "1               NaN              NaN             NaN   \n",
            "2               NaN              NaN             NaN   \n",
            "3      de Leão Novo              NaN             NaN   \n",
            "4               NaN              NaN             NaN   \n",
            "...             ...              ...             ...   \n",
            "2887            NaN              NaN             NaN   \n",
            "2888            NaN              NaN             NaN   \n",
            "2889            NaN              NaN             NaN   \n",
            "2890            NaN              NaN             NaN   \n",
            "2891            NaN              NaN             NaN   \n",
            "\n",
            "                           author30_institution  author30_is_corporate  \n",
            "0                                           NaN                    NaN  \n",
            "1                                           NaN                    NaN  \n",
            "2                                           NaN                    NaN  \n",
            "3     Instituto Nacional de Pesquisas Espaciais                    NaN  \n",
            "4                                           NaN                    NaN  \n",
            "...                                         ...                    ...  \n",
            "2887                                        NaN                    NaN  \n",
            "2888                                        NaN                    NaN  \n",
            "2889                                        NaN                    NaN  \n",
            "2890                                        NaN                    NaN  \n",
            "2891                                        NaN                    NaN  \n",
            "\n",
            "[2892 rows x 248 columns]>\n"
          ]
        }
      ]
    },
    {
      "cell_type": "code",
      "source": [
        "import requests\n",
        "import pandas as pd\n",
        "import time\n",
        "\n",
        "dois = []\n",
        "\n",
        "if :\n",
        "    url = f'https://api.openaccessbutton.org/find?q={title}'\n",
        "    response = requests.get(url)\n",
        "    if response.status_code == 200:\n",
        "        data = response.json()\n",
        "        if data['total'] > 0:\n",
        "            doi = data['data'][0]['doi']\n",
        "            dois.append(doi)\n",
        "        else:\n",
        "            dois.append(None)\n",
        "    time.sleep(1)  # limit requests to one per second\n",
        "\n",
        "df = pd.DataFrame({'Title': titles, 'DOI': dois})\n",
        "print(df)\n"
      ],
      "metadata": {
        "id": "KMLk0JwcxoXu",
        "outputId": "251e58a6-dc2d-4ba6-d31c-7b2e59cf5858",
        "colab": {
          "base_uri": "https://localhost:8080/",
          "height": 140
        }
      },
      "execution_count": null,
      "outputs": [
        {
          "output_type": "error",
          "ename": "SyntaxError",
          "evalue": "ignored",
          "traceback": [
            "\u001b[0;36m  File \u001b[0;32m\"<ipython-input-44-810763cc6b1a>\"\u001b[0;36m, line \u001b[0;32m7\u001b[0m\n\u001b[0;31m    if :\u001b[0m\n\u001b[0m       ^\u001b[0m\n\u001b[0;31mSyntaxError\u001b[0m\u001b[0;31m:\u001b[0m invalid syntax\n"
          ]
        }
      ]
    },
    {
      "cell_type": "markdown",
      "source": [
        "## Visualize\n",
        "\n",
        "Create any visualizations for your EDA here. Make note in the form of code comments of what your thought process is for your visualizations."
      ],
      "metadata": {
        "azdata_cell_guid": "d45060f3-97bc-484a-9ef4-66145bbe9427",
        "id": "qj5yAovSoyD0"
      }
    },
    {
      "cell_type": "code",
      "source": [],
      "metadata": {
        "azdata_cell_guid": "f4565b03-759a-47a8-b58f-01b32a0b4b67",
        "id": "etJCTrfToyD0"
      },
      "outputs": [],
      "execution_count": null
    },
    {
      "cell_type": "code",
      "source": [],
      "metadata": {
        "azdata_cell_guid": "cd64bab1-db4c-4295-820d-c6464b653a3e",
        "id": "x_f77Bl0oyD0"
      },
      "outputs": [],
      "execution_count": null
    },
    {
      "cell_type": "markdown",
      "source": [
        "## Summarize Your Results\n",
        "\n",
        "With your EDA complete, answer the following questions.\n",
        "\n",
        "1. Was there anything surprising about your dataset?\n",
        "2. Do you have any concerns about your dataset?\n",
        "3. Is there anything you want to make note of for the next phase of your analysis, which is cleaning data?"
      ],
      "metadata": {
        "azdata_cell_guid": "d4931c0c-2c09-4ee1-95d4-73dd08c2f0a6",
        "id": "tXzC4TI_oyD0"
      }
    }
  ]
}