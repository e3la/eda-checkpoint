{
  "metadata": {
    "kernelspec": {
      "name": "python3",
      "display_name": "Python 3",
      "language": "python"
    },
    "language_info": {
      "name": "python",
      "version": "3.8.8",
      "mimetype": "text/x-python",
      "codemirror_mode": {
        "name": "ipython",
        "version": 3
      },
      "pygments_lexer": "ipython3",
      "nbconvert_exporter": "python",
      "file_extension": ".py"
    },
    "colab": {
      "provenance": []
    }
  },
  "nbformat_minor": 0,
  "nbformat": 4,
  "cells": [
    {
      "cell_type": "markdown",
      "source": [
        "# Checkpoint Two: Exploratory Data Analysis\n",
        "\n",
        "Now that your chosen dataset is approved, it is time to start working on your analysis. Use this notebook to perform your EDA and make notes where directed to as you work.\n",
        "\n",
        "## Getting Started\n",
        "\n",
        "Since we have not provided your dataset for you, you will need to load the necessary files in this repository. Make sure to include a link back to the original dataset here as well.\n",
        "\n",
        "My dataset:\n",
        "\n",
        "Your first task in EDA is to import necessary libraries and create a dataframe(s). Make note in the form of code comments of what your thought process is as you work on this setup task."
      ],
      "metadata": {
        "azdata_cell_guid": "151601c9-ca7a-412e-af80-c62a87e0837e",
        "id": "HlfsYz6soyDy"
      }
    },
    {
      "cell_type": "code",
      "source": [
        "# import dependencies\n",
        "import pandas as pd\n",
        "import matplotlib.pyplot as plt\n",
        "import seaborn as sns\n",
        "import numpy as np\n",
        "\n"
      ],
      "metadata": {
        "azdata_cell_guid": "7b503e37-6df5-4433-acfb-678b1346db14",
        "id": "jJk6X-KmoyDz"
      },
      "outputs": [],
      "execution_count": 3
    },
    {
      "cell_type": "code",
      "source": [
        "# make my dataframe using .read_csv - I am using the raw link to my articles csv file because that's the easiest way I've found when using google colab\n",
        "\n",
        "url = 'https://raw.githubusercontent.com/e3la/eda-checkpoint/starter-main/articles.csv'\n",
        "\n",
        "df= pd.read_csv(url)"
      ],
      "metadata": {
        "id": "ij8HT982o4cJ"
      },
      "execution_count": 4,
      "outputs": []
    },
    {
      "cell_type": "markdown",
      "source": [
        "## Get to Know the Numbers\n",
        "\n",
        "Now that you have everything setup, put any code that you use to get to know the dataframe and its rows and columns better in the cell below. You can use whatever techniques you like, except for visualizations. You will put those in a separate section.\n",
        "\n",
        "When working on your code, make sure to leave comments so that your mentors can understand your thought process."
      ],
      "metadata": {
        "azdata_cell_guid": "129ce836-524b-4ea8-b394-a959f9308d6a",
        "id": "LbOXHS3NoyD0"
      }
    },
    {
      "cell_type": "code",
      "source": [
        "#getting the columns of data helps me get to know what is in there\n",
        "print(df.columns)\n",
        "\n",
        "print(df['DOI'].notnull().sum(),\"the DOI isn't NULL\")\n",
        "print(df['Journal'].notnull().sum(),\"the Journal isn't NULL\")\n",
        "\n",
        "# Filter the DataFrame to include only the rows where the DOI is null\n",
        "null_doi_df = df[df['DOI'].isnull()]\n",
        "\n",
        "# Select the 'Title' column of the filtered DataFrame\n",
        "title_df = null_doi_df['Title']\n",
        "\n",
        "print(title_df[100])\n"
      ],
      "metadata": {
        "azdata_cell_guid": "0ca2d318-f6e8-43ef-a33e-5304d24d928d",
        "tags": [],
        "id": "N1DqFEuToyD0",
        "outputId": "41f91258-7a95-42a7-90bd-6f298815db1a",
        "colab": {
          "base_uri": "https://localhost:8080/"
        }
      },
      "outputs": [
        {
          "output_type": "stream",
          "name": "stdout",
          "text": [
            "Index(['First Name', 'Last Name', 'Type', 'Title', 'Journal', 'Date', 'Year',\n",
            "       'Volume', 'Pages', 'Issue', 'URL', 'Status', 'DOI', 'PMID', 'PMCID',\n",
            "       'ISSN', 'Term', 'Year.1', 'Description', 'Authors',\n",
            "       'AACSB: Professional Practice Standards or Public Policy',\n",
            "       'AACSB: Scholarly Type', 'Peer Review Type', 'Geographic Scope',\n",
            "       'Funding Type', 'Article Type', 'Peer Reviewed / Juried?',\n",
            "       'Publication Type', 'Faculty Role',\n",
            "       'Funding Agency and Grant Number (if applicable)',\n",
            "       'Description of Intellectual Contribution / Role',\n",
            "       'Reviews and Press Coverage of Work',\n",
            "       'URL(s) of Reviews and Press Coverage (or upload documents in section C)',\n",
            "       'Language', 'Honors / Awards / Recognition Received', 'Source of Data',\n",
            "       'Times Cited', 'Impact Factor', 'Journal Quartile'],\n",
            "      dtype='object')\n",
            "1690 the DOI isn't NULL\n",
            "5109 the Journal isn't NULL\n",
            "The vaporization enthalpy and vapor pressures of liquid adamantane, diamantane and α- and β-cedrene by correlation gas chromatography.\n"
          ]
        }
      ],
      "execution_count": 40
    },
    {
      "cell_type": "code",
      "source": [
        "import requests\n",
        "import pandas as pd\n",
        "import time\n",
        "\n",
        "dois = []\n",
        "\n",
        "if :\n",
        "    url = f'https://api.openaccessbutton.org/find?q={title}'\n",
        "    response = requests.get(url)\n",
        "    if response.status_code == 200:\n",
        "        data = response.json()\n",
        "        if data['total'] > 0:\n",
        "            doi = data['data'][0]['doi']\n",
        "            dois.append(doi)\n",
        "        else:\n",
        "            dois.append(None)\n",
        "    time.sleep(1)  # limit requests to one per second\n",
        "\n",
        "df = pd.DataFrame({'Title': titles, 'DOI': dois})\n",
        "print(df)\n"
      ],
      "metadata": {
        "id": "KMLk0JwcxoXu",
        "outputId": "251e58a6-dc2d-4ba6-d31c-7b2e59cf5858",
        "colab": {
          "base_uri": "https://localhost:8080/",
          "height": 140
        }
      },
      "execution_count": 44,
      "outputs": [
        {
          "output_type": "error",
          "ename": "SyntaxError",
          "evalue": "ignored",
          "traceback": [
            "\u001b[0;36m  File \u001b[0;32m\"<ipython-input-44-810763cc6b1a>\"\u001b[0;36m, line \u001b[0;32m7\u001b[0m\n\u001b[0;31m    if :\u001b[0m\n\u001b[0m       ^\u001b[0m\n\u001b[0;31mSyntaxError\u001b[0m\u001b[0;31m:\u001b[0m invalid syntax\n"
          ]
        }
      ]
    },
    {
      "cell_type": "markdown",
      "source": [
        "## Visualize\n",
        "\n",
        "Create any visualizations for your EDA here. Make note in the form of code comments of what your thought process is for your visualizations."
      ],
      "metadata": {
        "azdata_cell_guid": "d45060f3-97bc-484a-9ef4-66145bbe9427",
        "id": "qj5yAovSoyD0"
      }
    },
    {
      "cell_type": "code",
      "source": [],
      "metadata": {
        "azdata_cell_guid": "f4565b03-759a-47a8-b58f-01b32a0b4b67",
        "id": "etJCTrfToyD0"
      },
      "outputs": [],
      "execution_count": null
    },
    {
      "cell_type": "code",
      "source": [],
      "metadata": {
        "azdata_cell_guid": "cd64bab1-db4c-4295-820d-c6464b653a3e",
        "id": "x_f77Bl0oyD0"
      },
      "outputs": [],
      "execution_count": null
    },
    {
      "cell_type": "markdown",
      "source": [
        "## Summarize Your Results\n",
        "\n",
        "With your EDA complete, answer the following questions.\n",
        "\n",
        "1. Was there anything surprising about your dataset?\n",
        "2. Do you have any concerns about your dataset?\n",
        "3. Is there anything you want to make note of for the next phase of your analysis, which is cleaning data?"
      ],
      "metadata": {
        "azdata_cell_guid": "d4931c0c-2c09-4ee1-95d4-73dd08c2f0a6",
        "id": "tXzC4TI_oyD0"
      }
    }
  ]
}